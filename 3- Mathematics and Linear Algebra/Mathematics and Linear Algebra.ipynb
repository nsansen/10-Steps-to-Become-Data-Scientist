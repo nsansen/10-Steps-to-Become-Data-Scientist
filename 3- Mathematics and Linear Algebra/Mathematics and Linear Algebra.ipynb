{
 "cells": [
  {
   "cell_type": "markdown",
   "metadata": {
    "_uuid": "a8f9622945156d6337ba73c481da2de7efef7384"
   },
   "source": [
    "## Tutorial: Mathematics and Linear Algebra  in Python\n",
    "\n",
    "Tackle probability and statistics in Python:\n",
    "\n",
    "learn more about combinations and permutations, dependent and independent events, and expected value.\n",
    "Data scientists create **machine learning models** to make predictions and optimize decisions. In **online poker**, the options are whether to bet, call, or fold. You aren't allowed to use software to make those decisions though. \n",
    "\n",
    "That's where most online poker sites draw the line in the rules. Since you can't train a machine learning model, you must train your brain. This requires an endless stream of equity calculations away from the poker table, which use many different probability and statistics concepts.\n",
    "\n",
    "More specifically, you'll cover the following topics:\n",
    "* Probability Theory: An Introduction\n",
    "* Key Concepts\n",
    "* Calculating Probability\n",
    "* Probability with Combinations and Permutations\n",
    "* Independent versus Dependent Events\n",
    "* Multiple Events\n",
    "* Mutually Exclusive Events\n",
    "* Non-Mutually Exclusive Events\n",
    "* Intersection of Independent Events\n",
    "* Intersection of Dependent Events\n",
    "* Expected Value\n",
    "* type of Random\n",
    "\n",
    "---------------------------------------------------------------------\n",
    "you can follow me on:\n",
    "> ###### [ GitHub](https://github.com/mjbahmani)\n",
    "> ###### [LinkedIn](https://www.linkedin.com/in/bahmani/)\n",
    "> ###### [Kaggle](https://www.kaggle.com/mjbahmani/)\n",
    "\n",
    "-------------------------------------------------------------------------------------------------------------\n",
    " **I hope you find this kernel helpful and some upvotes would be very much appreciated**\n",
    " \n",
    " -----------"
   ]
  },
  {
   "cell_type": "markdown",
   "metadata": {
    "_uuid": "cda11210a88d6484112cbe2c3624225328326c6a"
   },
   "source": [
    " <a id=\"0\"></a> <br>\n",
    "**Notebook Content**\n",
    "1. [Installation](#1)\n",
    "    1. [Windows](#2)\n",
    "    1. [Linux](#3)\n",
    "    1. [Jupyter notebook](#4)\n",
    "    1. [Kaggle Kernel](#5)\n",
    "    1. [Colab notebook](#6)\n",
    "    1. [What browsers are supported?](#7)\n",
    "    1. [Is it free to use?](#8)\n",
    "    1. [What is the difference between Jupyter and Colaboratory?](#9)\n",
    "1. [Loading Packages](#10)\n",
    "1. [Introduction](#11)\n",
    "1. [probability](#12)\n",
    "1. [Combinations and Permutations](#13)\n",
    "    1. [Permutations](#14)\n",
    "1. [Independent versus Dependent Events](#15)\n",
    "1. [Expected Value](#16)\n",
    "1. [Random](#17)\n",
    "1. [Generate a list of Random Numbers](#18)\n",
    "1. [Generating Random Strings or Passwords with Python](#19)\n",
    "1. [Random Integer Numbers](#20)\n",
    "1. [Conclusion](#21)\n",
    "1. [References](#22)"
   ]
  },
  {
   "cell_type": "markdown",
   "metadata": {
    "_uuid": "89ee0cda57822cd4102eadf8992c5bfe1964d557"
   },
   "source": [
    " <a id=\"1\"></a> <br>\n",
    "## 1-Installation\n",
    " <a id=\"2\"></a> <br>\n",
    "#### Windows:\n",
    "\n",
    "* Anaconda (from https://www.continuum.io) is a free Python distribution for SciPy stack. It is also available for Linux and Mac.\n",
    "* Canopy (https://www.enthought.com/products/canopy/) is available as free as well as commercial distribution with full SciPy stack for Windows, Linux and Mac.\n",
    "* Python (x,y) is a free Python distribution with SciPy stack and Spyder IDE for Windows OS. (Downloadable from http://python-xy.github.io/)\n",
    " <a id=\"3\"></a> <br>\n",
    "#### Linux\n",
    "Package managers of respective Linux distributions are used to install one or more packages in SciPy stack.\n",
    "\n",
    "For Ubuntu Users:\n",
    "sudo apt-get install python-numpy python-scipy python-matplotlibipythonipythonnotebook\n",
    "python-pandas python-sympy python-nose"
   ]
  },
  {
   "cell_type": "markdown",
   "metadata": {
    "_uuid": "c1793fb141d3338bbc4300874be6ffa5cb1a9139"
   },
   "source": [
    " <a id=\"4\"></a> <br>\n",
    "## 1-1 Jupyter notebook\n",
    "I strongly recommend installing **Python** and **Jupyter** using the **[Anaconda Distribution](https://www.anaconda.com/download/)**, which includes Python, the Jupyter Notebook, and other commonly used packages for scientific computing and data science.\n",
    "\n",
    "First, download Anaconda. We recommend downloading Anaconda’s latest Python 3 version.\n",
    "\n",
    "Second, install the version of Anaconda which you downloaded, following the instructions on the download page.\n",
    "\n",
    "Congratulations, you have installed Jupyter Notebook! To run the notebook, run the following command at the Terminal (Mac/Linux) or Command Prompt (Windows):"
   ]
  },
  {
   "cell_type": "markdown",
   "metadata": {
    "_uuid": "abbd1757dde9805758a2cec47a186e31dbc29822"
   },
   "source": [
    "> jupyter notebook\n",
    "> "
   ]
  },
  {
   "cell_type": "markdown",
   "metadata": {
    "_uuid": "8a70c253d5afa93f07a7a7e048dbb2d7812c8d10"
   },
   "source": [
    " <a id=\"5\"></a> <br>\n",
    "## 1-2 Kaggle Kernel\n",
    "Kaggle kernel is an environment just like you use jupyter notebook, it's an **extension** of the where in you are able to carry out all the functions of jupyter notebooks plus it has some added tools like forking et al."
   ]
  },
  {
   "cell_type": "markdown",
   "metadata": {
    "_uuid": "237bbe4e4509c9491ce165e3599c432b979d7b90"
   },
   "source": [
    " <a id=\"6\"></a> <br>\n",
    "## 1-3 Colab notebook\n",
    "**Colaboratory** is a research tool for machine learning education and research. It’s a Jupyter notebook environment that requires no setup to use.\n",
    "<a id=\"7\"></a> <br>\n",
    "### 1-3-1 What browsers are supported?\n",
    "Colaboratory works with most major browsers, and is most thoroughly tested with desktop versions of Chrome and Firefox.\n",
    "<a id=\"8\"></a> <br>\n",
    "### 1-3-2 Is it free to use?\n",
    "Yes. Colaboratory is a research project that is free to use.\n",
    "<a id=\"9\"></a> <br>\n",
    "### 1-3-3 What is the difference between Jupyter and Colaboratory?\n",
    "Jupyter is the open source project on which Colaboratory is based. Colaboratory allows you to use and share Jupyter notebooks with others without having to download, install, or run anything on your own computer other than a browser."
   ]
  },
  {
   "cell_type": "markdown",
   "metadata": {
    "_uuid": "fbedcae8843986c2139f18dad4b5f313e6535ac5"
   },
   "source": [
    "<a id=\"10\"></a> <br>\n",
    "## 2- Loading Packages\n",
    "In this kernel we are using the following packages:"
   ]
  },
  {
   "cell_type": "markdown",
   "metadata": {
    "_uuid": "61f49281fdd8592b44c0867225f57e6fce36342c"
   },
   "source": [
    " <img src=\"http://s8.picofile.com/file/8338227868/packages.png\">\n",
    " Now we import all of them "
   ]
  },
  {
   "cell_type": "code",
   "execution_count": 58,
   "metadata": {
    "_cell_guid": "b1076dfc-b9ad-4769-8c92-a6c4dae69d19",
    "_uuid": "8f2839f25d086af736a60e9eeb907d3b93b6e0e5"
   },
   "outputs": [
    {
     "name": "stdout",
     "output_type": "stream",
     "text": [
      "Python: 3.6.1 |Anaconda 4.4.0 (64-bit)| (default, May 11 2017, 13:25:24) [MSC v.1900 64 bit (AMD64)]\n",
      "scipy: 0.19.0\n",
      "matplotlib: 2.0.2\n",
      "numpy: 1.12.1\n",
      "pandas: 0.20.1\n",
      "seaborn: 0.7.1\n",
      "matplotlib: 2.0.2\n",
      "sklearn: 0.18.1\n"
     ]
    }
   ],
   "source": [
    "# packages to load \n",
    "# Check the versions of libraries\n",
    "# Python version\n",
    "import warnings\n",
    "warnings.filterwarnings('ignore')\n",
    "import sys\n",
    "print('Python: {}'.format(sys.version))\n",
    "# scipy\n",
    "import scipy\n",
    "print('scipy: {}'.format(scipy.__version__))\n",
    "import numpy\n",
    "# matplotlib\n",
    "import matplotlib\n",
    "print('matplotlib: {}'.format(matplotlib.__version__))\n",
    "# numpy\n",
    "import numpy as np # linear algebra\n",
    "print('numpy: {}'.format(np.__version__))\n",
    "# pandas\n",
    "import pandas as pd # data processing, CSV file I/O (e.g. pd.read_csv)\n",
    "print('pandas: {}'.format(pd.__version__))\n",
    "import seaborn as sns\n",
    "print('seaborn: {}'.format(sns.__version__))\n",
    "sns.set(color_codes=True)\n",
    "import matplotlib.pyplot as plt\n",
    "print('matplotlib: {}'.format(matplotlib.__version__))\n",
    "%matplotlib inline\n",
    "# scikit-learn\n",
    "import sklearn\n",
    "print('sklearn: {}'.format(sklearn.__version__))\n",
    "# Input data files are available in the \"../input/\" directory.\n",
    "# For example, running this (by clicking run or pressing Shift+Enter) will list the files in the input directory\n",
    "import os\n",
    "%matplotlib inline\n",
    "from sklearn.metrics import accuracy_score\n",
    "# Importing metrics for evaluation\n",
    "from sklearn.metrics import confusion_matrix\n",
    "from sklearn.metrics import classification_report\n"
   ]
  },
  {
   "cell_type": "markdown",
   "metadata": {
    "_uuid": "750903cc2679d39058f56df6c6c040be02b748df"
   },
   "source": [
    " <a id=\"11\"></a> <br>\n",
    "## 3- Introduction\n",
    "Before you get your hands dirty, it's time to consider what probability theory is and why it's important to learn about it when you're getting into data science. Additionally, you'll learn some key concepts that will be handy to consider throughout the tutorial and you'll learn how to calculate the probability of single events.\n",
    "\n",
    "You'll often wonder in real-life situations what the probabilities are of some event occurring, such as winning the lottery, the victory of your soccer team or a discount on your favorite pair of shoes. \"What are the chances...\" is an expression you probably use very often. Determining the chances of an event occurring is called \"probability\"."
   ]
  },
  {
   "cell_type": "markdown",
   "metadata": {},
   "source": [
    " <a id=\"12\"></a> <br>\n",
    "## 4- probability\n",
    "There are 52 cards In a standard deck of cards and of those 52 cards, 4 are Aces. If you follow the example of the coin flipping from above to know the probability of drawing an Ace, you'll divide the number of possible event outcomes (4), by the sample space (52):\n",
    "\n",
    "P(A)=4/52\n",
    "<img src=\"https://s3.amazonaws.com/assets.datacamp.com/blog_assets/Probability+%26+Statistics+Python/image7.png\"></img>\n",
    "Note how A represents the event of \"drawing an Ace\".\n",
    "\n",
    "Now, determine the probability of drawing an Ace with the help of Python:"
   ]
  },
  {
   "cell_type": "code",
   "execution_count": 59,
   "metadata": {},
   "outputs": [
    {
     "name": "stdout",
     "output_type": "stream",
     "text": [
      "0.08\n"
     ]
    }
   ],
   "source": [
    "# Sample Space\n",
    "cards = 52\n",
    "\n",
    "# Outcomes\n",
    "aces = 4\n",
    "\n",
    "# Divide possible outcomes by the sample set\n",
    "ace_probability = aces / cards\n",
    "\n",
    "# Print probability rounded to two decimal places\n",
    "print(round(ace_probability, 2))\n"
   ]
  },
  {
   "cell_type": "markdown",
   "metadata": {},
   "source": [
    "The probability of drawing an Ace from a standard deck is 0.08. To determine probability in percentage form, simply multiply by 100."
   ]
  },
  {
   "cell_type": "code",
   "execution_count": 60,
   "metadata": {},
   "outputs": [
    {
     "name": "stdout",
     "output_type": "stream",
     "text": [
      "8.0%\n"
     ]
    }
   ],
   "source": [
    "# Ace Probability Percent Code\n",
    "ace_probability_percent = ace_probability * 100\n",
    "\n",
    "# Print probability percent rounded to one decimal place\n",
    "print(str(round(ace_probability_percent, 0)) + '%')"
   ]
  },
  {
   "cell_type": "markdown",
   "metadata": {},
   "source": [
    "The probability of drawing an Ace as a percent is 8%.\n",
    "\n",
    "Now that you have seen two examples where you calculated probabilities, it's easy to assume that you might build out your probability calculations to determine, for example, the probability of drawing a card that is a Heart, a face card (such as Jacks, Queens, or Kings), or a combination of both, such as a Queen of Hearts.\n",
    "\n",
    "In such cases, you might want to create a User-Defined Function (UDF) event_probability() to which you pass the event_outcomes and the sample_space to find the probability of an event in percentage form, since you'll be reusing a lot of the code:"
   ]
  },
  {
   "cell_type": "code",
   "execution_count": 61,
   "metadata": {},
   "outputs": [
    {
     "name": "stdout",
     "output_type": "stream",
     "text": [
      "25.0%\n",
      "23.1%\n",
      "1.9%\n"
     ]
    }
   ],
   "source": [
    "# Create function that returns probability percent rounded to one decimal place\n",
    "def event_probability(event_outcomes, sample_space):\n",
    "    probability = (event_outcomes / sample_space) * 100\n",
    "    return round(probability, 1)\n",
    "\n",
    "# Sample Space\n",
    "cards = 52\n",
    "\n",
    "# Determine the probability of drawing a heart\n",
    "hearts = 13\n",
    "heart_probability = event_probability(hearts, cards)\n",
    "\n",
    "# Determine the probability of drawing a face card\n",
    "face_cards = 12\n",
    "face_card_probability = event_probability(face_cards, cards)\n",
    "\n",
    "# Determine the probability of drawing the queen of hearts\n",
    "queen_of_hearts = 1\n",
    "queen_of_hearts_probability = event_probability(queen_of_hearts, cards)\n",
    "\n",
    "# Print each probability\n",
    "print(str(heart_probability) + '%')\n",
    "print(str(face_card_probability) + '%')\n",
    "print(str(queen_of_hearts_probability) + '%')"
   ]
  },
  {
   "cell_type": "markdown",
   "metadata": {},
   "source": [
    "These results probably don't surprise you: as you expected, the chances of drawing a Queen of Hearts are much smaller than the chances of drawing a regular face card or a Heart."
   ]
  },
  {
   "cell_type": "markdown",
   "metadata": {},
   "source": [
    " <a id=\"13\"></a> <br>\n",
    "## 5- Combinations and Permutations\n",
    "You have seen in the previous section that determining the size of your sample space is key to calculating probabilities. However, this can sometimes prove to be a challenge!\n",
    "\n",
    "Fortunately, there are ways to make the counting task easier. Two of these ways are permutations and combinations. In this section, you'll see what both of these concepts exactly mean and how you can use them to calculate the size of your sample space!"
   ]
  },
  {
   "cell_type": "markdown",
   "metadata": {},
   "source": [
    " <a id=\"14\"></a> <br>\n",
    "## 5-1 Permutations\n",
    "Permutations are the number of ways a subset of a specified size can be arranged from a given set, generally without replacement. An example of this would be a 4 digit PIN with no repeated digits. The probability of having no repeated digits can be calculated by executing the following calculation:\n",
    "\n",
    "10 x 9 x 8 x 7"
   ]
  },
  {
   "cell_type": "code",
   "execution_count": 62,
   "metadata": {},
   "outputs": [
    {
     "name": "stdout",
     "output_type": "stream",
     "text": [
      "12.0\n"
     ]
    }
   ],
   "source": [
    "# Permutations Code\n",
    "import math\n",
    "n = 4\n",
    "k = 2\n",
    "\n",
    "# Determine permutations and print result\n",
    "Permutations = math.factorial(n) / math.factorial(k)\n",
    "print(Permutations)"
   ]
  },
  {
   "cell_type": "markdown",
   "metadata": {},
   "source": [
    "To determine the number of combinations, simply divide the number of permutations by the factorial of the size of the subset. Try finding the number of starting hand combinations that can be dealt in Texas Hold’em."
   ]
  },
  {
   "cell_type": "code",
   "execution_count": 63,
   "metadata": {},
   "outputs": [
    {
     "name": "stdout",
     "output_type": "stream",
     "text": [
      "1326.0\n"
     ]
    }
   ],
   "source": [
    "# Combinations Code\n",
    "n = 52\n",
    "k = 2\n",
    "\n",
    "# Determine Permutations\n",
    "Permutations = math.factorial(n) / math.factorial(n - k)\n",
    "\n",
    "# Determine Combinations and print result\n",
    "Combinations = Permutations / math.factorial(k)\n",
    "print(Combinations)"
   ]
  },
  {
   "cell_type": "markdown",
   "metadata": {},
   "source": [
    " <a id=\"15\"></a> <br>\n",
    "### 6- Independent versus Dependent Events"
   ]
  },
  {
   "cell_type": "code",
   "execution_count": 64,
   "metadata": {},
   "outputs": [
    {
     "name": "stdout",
     "output_type": "stream",
     "text": [
      "7.8\n",
      "5.9\n"
     ]
    }
   ],
   "source": [
    "# Sample Space\n",
    "cards = 52\n",
    "cards_drawn = 1 \n",
    "cards = cards - cards_drawn \n",
    "\n",
    "# Determine the probability of drawing an Ace after drawing a King on the first draw\n",
    "aces = 4\n",
    "ace_probability1 = event_probability(aces, cards)\n",
    "\n",
    "# Determine the probability of drawing an Ace after drawing an Ace on the first draw\n",
    "aces_drawn = 1\n",
    "aces = aces - aces_drawn\n",
    "ace_probability2 = event_probability(aces, cards)\n",
    "\n",
    "# Print each probability\n",
    "print(ace_probability1)\n",
    "print(ace_probability2)"
   ]
  },
  {
   "cell_type": "markdown",
   "metadata": {},
   "source": [
    "There are a few situations common to poker which are relevant to the concept of dependent events.\n",
    "\n",
    "But before you get started, a little background info is in order. The game is Texas Hold’em. Played with a standard 52 card deck, Texas Hold’em is the most popular of all the poker variations. Each player is dealt two cards to start the hand and will make the best five-card hand possible by using their two cards combined with the five community cards that are dealt throughout the hand. Cards are dealt in four rounds:\n",
    "\n",
    "* Pre-Flop: Each player is dealt two cards, known as \"hole cards\"\n",
    "* Flop: Three community cards are dealt\n",
    "* Turn: One community card is dealt\n",
    "* River: Final community card is dealt"
   ]
  },
  {
   "cell_type": "code",
   "execution_count": 65,
   "metadata": {},
   "outputs": [
    {
     "name": "stdout",
     "output_type": "stream",
     "text": [
      "19.6\n"
     ]
    }
   ],
   "source": [
    "# Sample Space\n",
    "cards = 52\n",
    "hole_cards = 2\n",
    "turn_community_cards = 4\n",
    "cards = cards - (hole_cards + turn_community_cards)\n",
    "\n",
    "# Outcomes\n",
    "diamonds = 13\n",
    "diamonds_drawn = 4\n",
    "# In poker, cards that complete a draw are known as \"outs\"\n",
    "outs = diamonds - diamonds_drawn\n",
    "\n",
    "#Determine river flush probability\n",
    "river_flush_probability = event_probability(outs, cards)\n",
    "print(river_flush_probability)"
   ]
  },
  {
   "cell_type": "markdown",
   "metadata": {},
   "source": [
    "There is roughly a 20% chance of hitting your Flush draw on the River. Here’s another one:\n",
    "\n"
   ]
  },
  {
   "cell_type": "markdown",
   "metadata": {},
   "source": [
    "Your on the Turn and you have an open-ended Straight draw. A Straight is another strong hand where there are five cards in sequential order. The Straight draw is open-ended because any Eight ( 8, 9, 10, Jack, Queen) or any King (9, 10, Jack, Queen, King) will complete the straight.\n",
    "\n",
    "What's the probability that the River card completes the Straight?"
   ]
  },
  {
   "cell_type": "code",
   "execution_count": 66,
   "metadata": {},
   "outputs": [
    {
     "name": "stdout",
     "output_type": "stream",
     "text": [
      "17.4\n"
     ]
    }
   ],
   "source": [
    "# Sample Space\n",
    "cards = 52\n",
    "hole_cards = 2\n",
    "turn_community_cards = 4\n",
    "cards = cards - (hole_cards + turn_community_cards)\n",
    "\n",
    "# Outcomes\n",
    "eights = 4\n",
    "kings = 4\n",
    "outs = eights + kings\n",
    "\n",
    "# Determine river straight probability\n",
    "river_straight_probability = event_probability(outs, cards)\n",
    "print(river_straight_probability)"
   ]
  },
  {
   "cell_type": "markdown",
   "metadata": {},
   "source": [
    "There is roughly a 17% chance of hitting your Straight draw on the River."
   ]
  },
  {
   "cell_type": "markdown",
   "metadata": {},
   "source": [
    " <a id=\"16\"></a> <br>\n",
    "## 7- Expected Value\n",
    "When playing a game such as poker, you're fairly concerned with questions such as \"how much do I gain - or lose - on average, if\n",
    "I repeatedly play this game?\". You can imagine that this is no different for poker, especially when you're a professional poker player!\n",
    "\n",
    "Now, if the possible outcomes of the game and their associated probabilities can be described by a random variable, then you can answer the above question by computing its expected value, which is equal to a weighted average of the outcomes where each outcome is weighted by its probability.\n",
    "\n",
    "Or, in other words, you simply multiply the Total Value times the probability of winning to get your Expected Value:\n",
    "\n",
    "**ExpectedValue=TotalValue×Probability**\n",
    "\n",
    "What is the expected value if there is $100 (Total Value) in the pot, and your probability of winning the pot is 0.75?\n",
    "\n",
    "**ExpectedValue=$100×0.75**"
   ]
  },
  {
   "cell_type": "code",
   "execution_count": 67,
   "metadata": {},
   "outputs": [
    {
     "name": "stdout",
     "output_type": "stream",
     "text": [
      "75.0\n"
     ]
    }
   ],
   "source": [
    "# Initialize `pot` and `probability` variables\n",
    "pot = 100\n",
    "probability = 0.75\n",
    "\n",
    "# Determine expected value\n",
    "expected_value = pot * probability\n",
    "print(expected_value)"
   ]
  },
  {
   "cell_type": "markdown",
   "metadata": {},
   "source": [
    "Your opponent has decided to be helpful and show you his cards, and has a set of 2s.\n",
    "\n",
    "To win the hand on the River, you must hit any Diamond except a Jack or 2. The Jack or 2 of Diamonds would give your opponent a better hand, a full house and four of a kind respectively. \n",
    "\n",
    "You have to call $20 to stay in the hand, and if you win the hand you win $60. If your expected value is greater than $20 you should call the bet, and if not you should fold.\n",
    "Figure out if you should call the bet:"
   ]
  },
  {
   "cell_type": "code",
   "execution_count": 68,
   "metadata": {},
   "outputs": [
    {
     "name": "stdout",
     "output_type": "stream",
     "text": [
      "9.55 Fold\n"
     ]
    }
   ],
   "source": [
    "# Sample Space\n",
    "cards = 52\n",
    "hole_cards = 2\n",
    "# Your opponent provided you information... use it!\n",
    "opponents_hole_cards = 2 \n",
    "\n",
    "turn_community_cards = 4\n",
    "cards = cards - (hole_cards + opponents_hole_cards + turn_community_cards)\n",
    "\n",
    "# Outcomes\n",
    "diamonds = 13\n",
    "diamonds_drawn = 4\n",
    "\n",
    "# You can't count the two diamonds that won't help you win\n",
    "diamond_non_outs = 2 \n",
    "\n",
    "outs = diamonds - diamonds_drawn - diamond_non_outs\n",
    "\n",
    "# Determine win probability\n",
    "win_probability = outs / cards\n",
    "\n",
    "# Determine expected value\n",
    "pot = 60\n",
    "ev = pot * win_probability\n",
    "\n",
    "# Print ev and appropriate decision\n",
    "call_amount = 20\n",
    "if ev >= 20:\n",
    "    print(round(ev, 2), 'Call')\n",
    "else:\n",
    "    print(round(ev, 2), 'Fold')"
   ]
  },
  {
   "cell_type": "code",
   "execution_count": 69,
   "metadata": {},
   "outputs": [
    {
     "name": "stdout",
     "output_type": "stream",
     "text": [
      "0.6862428719937888\n"
     ]
    }
   ],
   "source": [
    "import random\n",
    "random_number = random.random()\n",
    "print(random_number)"
   ]
  },
  {
   "cell_type": "markdown",
   "metadata": {},
   "source": [
    "<a id=\"17\"></a> <br>\n",
    "## 8- Random\n",
    "We will show an alternative and secure approach in the following example, in which we will use the class SystemRandom of the random module. It will use a different random number generator. It uses sources which are provided by the operating system. This will be /dev/urandom on Unix and CryptGenRandom on windows. The random method of the SystemRandom class generates a float number in the range from 0.0 (included) to 1.0 (not included):\n",
    "\n"
   ]
  },
  {
   "cell_type": "code",
   "execution_count": 70,
   "metadata": {},
   "outputs": [
    {
     "name": "stdout",
     "output_type": "stream",
     "text": [
      "0.42772577512146404\n"
     ]
    }
   ],
   "source": [
    "from random import SystemRandom\n",
    "crypto = SystemRandom()\n",
    "print(crypto.random())"
   ]
  },
  {
   "cell_type": "markdown",
   "metadata": {},
   "source": [
    "<a id=\"18\"></a> <br>\n",
    "## 8-1 Generate a list of Random Numbers\n"
   ]
  },
  {
   "cell_type": "code",
   "execution_count": 71,
   "metadata": {},
   "outputs": [
    {
     "name": "stdout",
     "output_type": "stream",
     "text": [
      "[0.8425831513922636, 0.14033345794575625, 0.8658748039031625, 0.31181989672926835, 0.9352852459925426, 0.34941993528249116, 0.5739736528064628, 0.14237336364933806, 0.664295256193561, 0.26419764765154097]\n"
     ]
    }
   ],
   "source": [
    "import random\n",
    "def random_list(n, secure=True):\n",
    "    random_floats = []\n",
    "    if secure:\n",
    "        crypto = random.SystemRandom()\n",
    "        random_float = crypto.random\n",
    "    else:\n",
    "        random_float = random.random\n",
    "    for _ in range(n):\n",
    "        random_floats.append(random_float())\n",
    "    return random_floats\n",
    "print(random_list(10, secure=False))"
   ]
  },
  {
   "cell_type": "markdown",
   "metadata": {},
   "source": [
    "The \"simple\" random function of the random module is a lot faster as we can see in the following:\n",
    "\n"
   ]
  },
  {
   "cell_type": "code",
   "execution_count": 72,
   "metadata": {},
   "outputs": [
    {
     "name": "stdout",
     "output_type": "stream",
     "text": [
      "10000 loops, best of 3: 76.5 µs per loop\n"
     ]
    }
   ],
   "source": [
    "%%timeit\n",
    "random_list(100)"
   ]
  },
  {
   "cell_type": "code",
   "execution_count": 73,
   "metadata": {},
   "outputs": [
    {
     "name": "stdout",
     "output_type": "stream",
     "text": [
      "100000 loops, best of 3: 11.1 µs per loop\n"
     ]
    }
   ],
   "source": [
    "%%timeit\n",
    "random_list(100, secure=False)"
   ]
  },
  {
   "cell_type": "code",
   "execution_count": 74,
   "metadata": {},
   "outputs": [
    {
     "data": {
      "text/plain": [
       "[0.5959011690512823,\n",
       " 0.022162397575714587,\n",
       " 0.12747530799182438,\n",
       " 0.04520581551405267,\n",
       " 0.6886491550407245,\n",
       " 0.8891902779607284,\n",
       " 0.5928668636657934,\n",
       " 0.7396973571943954,\n",
       " 0.26053951523579455,\n",
       " 0.5695619586457665]"
      ]
     },
     "execution_count": 74,
     "metadata": {},
     "output_type": "execute_result"
    }
   ],
   "source": [
    "crypto = random.SystemRandom()\n",
    "[crypto.random() for _ in range(10)]\n",
    "#The previous Python code returned the following:\n"
   ]
  },
  {
   "cell_type": "markdown",
   "metadata": {},
   "source": [
    "Alternatively, you can use a list comprehension to create a list of random float numbers:\n",
    "\n"
   ]
  },
  {
   "cell_type": "code",
   "execution_count": 75,
   "metadata": {},
   "outputs": [
    {
     "name": "stdout",
     "output_type": "stream",
     "text": [
      "10000 loops, best of 3: 68.4 µs per loop\n"
     ]
    }
   ],
   "source": [
    "%%timeit\n",
    "[crypto.random() for _ in range(100)]"
   ]
  },
  {
   "cell_type": "markdown",
   "metadata": {},
   "source": [
    "The fastest and most efficient way will be using the random package of the numpy module:\n",
    "\n"
   ]
  },
  {
   "cell_type": "code",
   "execution_count": 76,
   "metadata": {},
   "outputs": [
    {
     "data": {
      "text/plain": [
       "array([ 0.74835928,  0.66818196,  0.27471614,  0.926003  ,  0.98778592,\n",
       "        0.47055631,  0.4301672 ,  0.00727917,  0.99220369,  0.33521366])"
      ]
     },
     "execution_count": 76,
     "metadata": {},
     "output_type": "execute_result"
    }
   ],
   "source": [
    "import numpy as np\n",
    "np.random.random(10)"
   ]
  },
  {
   "cell_type": "markdown",
   "metadata": {},
   "source": [
    "The code above returned the following:\n"
   ]
  },
  {
   "cell_type": "markdown",
   "metadata": {},
   "source": [
    "array([ 0.0422172 ,  0.98285327,  0.40386413,  0.34629582,  0.25666744,\n",
    "        0.69242112,  0.9231164 ,  0.47445382,  0.63654389,  0.06781786])\n"
   ]
  },
  {
   "cell_type": "code",
   "execution_count": 77,
   "metadata": {},
   "outputs": [
    {
     "name": "stdout",
     "output_type": "stream",
     "text": [
      "The slowest run took 10.17 times longer than the fastest. This could mean that an intermediate result is being cached.\n",
      "100000 loops, best of 3: 1.85 µs per loop\n"
     ]
    }
   ],
   "source": [
    "%%timeit\n",
    "np.random.random(100)"
   ]
  },
  {
   "cell_type": "markdown",
   "metadata": {},
   "source": [
    "Random Numbers Satisfying sum-to-one Condition"
   ]
  },
  {
   "cell_type": "code",
   "execution_count": 78,
   "metadata": {},
   "outputs": [
    {
     "name": "stdout",
     "output_type": "stream",
     "text": [
      "47.9888935779\n",
      "1.0\n"
     ]
    }
   ],
   "source": [
    "import numpy as np\n",
    "list_of_random_floats = np.random.random(100)\n",
    "sum_of_values = list_of_random_floats.sum()\n",
    "print(sum_of_values)\n",
    "normalized_values = list_of_random_floats / sum_of_values\n",
    "print(normalized_values.sum())"
   ]
  },
  {
   "cell_type": "markdown",
   "metadata": {},
   "source": [
    "<a id=\"19\"></a> <br>\n",
    "## 9- Generating Random Strings or Passwords with Python\n",
    "We assume that you don't use and don't like weak passwords like \"123456\", \"password\", \"qwerty\" and the likes. Believe it or not, these passwords are always ranking to 10. So you looking for a safe password? You want to create passwords with Python? But don't use some of the functions ranking top 10 in the search results, because you may use a functions using the random function of the random module.\n",
    "\n",
    "We will define a strong random password generator, which uses the SystemRandom class. This class uses, as we have alreay mentioned, a cryptographically strong pseudo random number generator:\n"
   ]
  },
  {
   "cell_type": "code",
   "execution_count": 79,
   "metadata": {},
   "outputs": [
    {
     "name": "stdout",
     "output_type": "stream",
     "text": [
      "Automatically generated password by Python: pQ1Y35ANAY9PkWu\n"
     ]
    }
   ],
   "source": [
    "from random import SystemRandom\n",
    "sr = SystemRandom() # create an instance of the SystemRandom class\n",
    "    \n",
    "def generate_password(length, \n",
    "                      valid_chars=None):\n",
    "    \"\"\" generate_password(length, check_char) -> password\n",
    "        length: the length of the created password\n",
    "        check_char: a Boolean function used to check the validity of a char\n",
    "    \"\"\"\n",
    "    if valid_chars==None:\n",
    "        valid_chars = \"ABCDEFGHIJKLMNOPQRSTUVWXYZ\"\n",
    "        valid_chars += valid_chars.lower() + \"0123456789\"\n",
    "    \n",
    "    password = \"\"\n",
    "    counter = 0\n",
    "    while counter < length:\n",
    "        rnum = sr.randint(0, 128)\n",
    "        char = chr(rnum)\n",
    "        if char in valid_chars:\n",
    "            password += chr(rnum)\n",
    "            counter += 1\n",
    "    return password\n",
    "print(\"Automatically generated password by Python: \" + generate_password(15))"
   ]
  },
  {
   "cell_type": "markdown",
   "metadata": {},
   "source": [
    "<a id=\"20\"></a> <br>\n",
    "## 10- Random Integer Numbers\n",
    "Everybody is familar with creating random integer numbers without computers. If you roll a die, you create a random number between 1 and 6. In terms of probability theory, we would call \"the rolling of the die\" an experiment with a result from the set of possible outcomes {1, 2, 3, 4, 5, 6}. It is also called the sample space of the experiment.\n",
    "\n",
    "How can we simulate the rolling of a die in Python? We don't need Numpy for this aim. \"Pure\" Python and its random module is enough."
   ]
  },
  {
   "cell_type": "code",
   "execution_count": 80,
   "metadata": {},
   "outputs": [
    {
     "name": "stdout",
     "output_type": "stream",
     "text": [
      "5\n"
     ]
    }
   ],
   "source": [
    "import random\n",
    "outcome = random.randint(1,6)\n",
    "print(outcome)"
   ]
  },
  {
   "cell_type": "markdown",
   "metadata": {},
   "source": [
    "Let's roll our virtual die 10 times:\n",
    "\n"
   ]
  },
  {
   "cell_type": "code",
   "execution_count": 81,
   "metadata": {},
   "outputs": [
    {
     "data": {
      "text/plain": [
       "[5, 6, 2, 1, 6, 6, 5, 4, 1, 3]"
      ]
     },
     "execution_count": 81,
     "metadata": {},
     "output_type": "execute_result"
    }
   ],
   "source": [
    "import random\n",
    "[ random.randint(1, 6) for _ in range(10) ]"
   ]
  },
  {
   "cell_type": "markdown",
   "metadata": {},
   "source": [
    "After having executed the Python code above we received the following result:\n"
   ]
  },
  {
   "cell_type": "markdown",
   "metadata": {},
   "source": [
    "[2, 1, 5, 5, 6, 5, 4, 4, 1, 1]\n"
   ]
  },
  {
   "cell_type": "code",
   "execution_count": 82,
   "metadata": {},
   "outputs": [
    {
     "name": "stdout",
     "output_type": "stream",
     "text": [
      "[6 3 4 2 3 4 3 6 6 6]\n"
     ]
    }
   ],
   "source": [
    "#We can accomplish this easier with the NumPy package random:\n",
    "\n",
    "import numpy as np\n",
    "outcome = np.random.randint(1, 7, size=10)\n",
    "print(outcome)"
   ]
  },
  {
   "cell_type": "markdown",
   "metadata": {},
   "source": [
    "You may have noticed, that we used 7 instead of 6 as the second parameter. randint from numpy.random uses a \"half-open\" interval unlike randint from the Python random module, which uses a closed interval!\n",
    "\n",
    "The formal definition:\n",
    "\n",
    "numpy.random.randint(low, high=None, size=None)\n",
    "\n",
    "This function returns random integers from 'low' (inclusive) to 'high' (exclusive). In other words: randint returns random integers from the \"discrete uniform\" distribution in the \"half-open\" interval ['low', 'high'). If 'high' is None or not given in the call, the results will range from [0, 'low'). The parameter 'size' defines the shape of the output. If 'size' is None, a single int will be the output. Otherwise the result will be an array. The parameter 'size' defines the shape of this array. So size should be a tuple. If size is defined as an integer n, this is considered to be the tuple (n,).\n",
    "\n",
    "The following examples will clarify the behavior of the parameters:"
   ]
  },
  {
   "cell_type": "code",
   "execution_count": 83,
   "metadata": {},
   "outputs": [
    {
     "name": "stdout",
     "output_type": "stream",
     "text": [
      "1\n",
      "[1]\n",
      "[6 1 2 2 6 3 5 2 6 1]\n",
      "[4 6 3 3 2 4 2 3 5 6]\n",
      "[[5 4 4 3]\n",
      " [5 2 1 1]\n",
      " [2 6 6 6]\n",
      " [4 3 4 3]\n",
      " [6 3 6 4]]\n"
     ]
    }
   ],
   "source": [
    "import numpy as np\n",
    "print(np.random.randint(1, 7))\n",
    "print(np.random.randint(1, 7, size=1))\n",
    "print(np.random.randint(1, 7, size=10))\n",
    "print(np.random.randint(1, 7, size=(10,))) # the same as the previous one\n",
    "print(np.random.randint(1, 7, size=(5, 4)))"
   ]
  },
  {
   "cell_type": "markdown",
   "metadata": {
    "_uuid": "97adc471c068fbd8d36ca19a4db0d98b0924c731"
   },
   "source": [
    "-----------------\n",
    "\n",
    "<a id=\"21\"></a> <br>\n",
    "## 11- Conclusion"
   ]
  },
  {
   "cell_type": "markdown",
   "metadata": {
    "_uuid": "1adfb5ba84e0f1d8fba58a2fca30546ead095047",
    "collapsed": true
   },
   "source": [
    "Congrats, you have made it to the end of this tutorial on probability theory with Python! This concludes Part 1 of the tutorial. You learned about several core probability concepts including Independent/Dependent events, Permutations/Combinations, Multiple events, Expected Values, and how to calculate each of them.\n",
    "\n",
    "In Part 2, you will apply these concepts to actual poker hands that I played during my career.\n",
    "\n",
    "*One card is dealt face down, known as the Burn card, before the Flop, Turn, and River. Since the card is dealt face down, and no player knows what it is, it does not count as a trial."
   ]
  },
  {
   "cell_type": "markdown",
   "metadata": {
    "_uuid": "cf3679a51c72dbe2d2549b5fe97e4ac5f1fa0fa0"
   },
   "source": [
    "you can follow me on:\n",
    "> ###### [ GitHub](https://github.com/mjbahmani)\n",
    "> ###### [LinkedIn](https://www.linkedin.com/in/bahmani/)\n",
    "> ###### [Kaggle](https://www.kaggle.com/mjbahmani/)\n",
    "\n",
    "--------------------------------------\n",
    "\n",
    " **I hope you find this kernel helpful and some upvotes would be very much appreciated**\n",
    " \n",
    " ----------"
   ]
  },
  {
   "cell_type": "markdown",
   "metadata": {
    "_cell_guid": "79c7e3d0-c299-4dcb-8224-4455121ee9b0",
    "_uuid": "d629ff2d2480ee46fbb7e2d37f6b5fab8052498a",
    "collapsed": true
   },
   "source": [
    "<a id=\"22\"></a> <br>\n",
    "# 9- References\n",
    "* [1] [DataCamp](https://www.datacamp.com/community/tutorials/statistics-python-tutorial-probability-1)"
   ]
  },
  {
   "cell_type": "code",
   "execution_count": null,
   "metadata": {
    "collapsed": true
   },
   "outputs": [],
   "source": []
  }
 ],
 "metadata": {
  "kernelspec": {
   "display_name": "Python 3",
   "language": "python",
   "name": "python3"
  },
  "language_info": {
   "codemirror_mode": {
    "name": "ipython",
    "version": 3
   },
   "file_extension": ".py",
   "mimetype": "text/x-python",
   "name": "python",
   "nbconvert_exporter": "python",
   "pygments_lexer": "ipython3",
   "version": "3.6.1"
  }
 },
 "nbformat": 4,
 "nbformat_minor": 1
}
